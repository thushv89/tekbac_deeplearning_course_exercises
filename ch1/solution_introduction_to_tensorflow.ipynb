{
 "cells": [
  {
   "cell_type": "markdown",
   "metadata": {},
   "source": [
    "# Introduction to Tensorflow\n",
    "Estimated time: 1:30 hours"
   ]
  },
  {
   "cell_type": "markdown",
   "metadata": {},
   "source": [
    "## Importing necessary libraries"
   ]
  },
  {
   "cell_type": "code",
   "execution_count": 1,
   "metadata": {},
   "outputs": [],
   "source": [
    "import tensorflow as tf\n",
    "import numpy as np\n",
    "\n",
    "# Checking if a GPU is available\n",
    "try:\n",
    "    assert tf.test.is_gpu_available()\n",
    "except:\n",
    "    raise AssertionError(\"A GPU was not detected. If your computer does not have a GPU, ignore this message\")"
   ]
  },
  {
   "cell_type": "markdown",
   "metadata": {},
   "source": [
    "## Good old Python vs TensorFlow"
   ]
  },
  {
   "cell_type": "code",
   "execution_count": 3,
   "metadata": {
    "scrolled": true
   },
   "outputs": [
    {
     "name": "stdout",
     "output_type": "stream",
     "text": [
      "3.69 s ± 501 ms per loop (mean ± std. dev. of 7 runs, 1 loop each)\n",
      "614 ms ± 13 ms per loop (mean ± std. dev. of 7 runs, 1 loop each)\n",
      "Numpy took 5.7x times more time than TensorFlow\n"
     ]
    }
   ],
   "source": [
    "tf.reset_default_graph()\n",
    "\n",
    "mat_size = 5000\n",
    "def numpy_dot(a,b):\n",
    "    return np.dot(a,b)\n",
    "\n",
    "def tf_dot(a,b):\n",
    "    tf_a = tf.placeholder(shape=[mat_size, mat_size], dtype=tf.float32, name='a')\n",
    "    tf_b = tf.placeholder(shape=[mat_size, mat_size], dtype=tf.float32, name='b')\n",
    "    with tf.Session() as sess:\n",
    "        return sess.run(tf.matmul(tf_a,tf_b), feed_dict={tf_a: a, tf_b: b})\n",
    "    \n",
    "# Python doing a dot product\n",
    "a = np.random.rand(mat_size, mat_size)\n",
    "b = np.random.rand(mat_size, mat_size)\n",
    "\n",
    "np_time = %timeit -o numpy_dot(a,b)\n",
    "tf_time = %timeit -o tf_dot(a,b)\n",
    "\n",
    "print(\"Numpy took {:.1f}x times more time than TensorFlow\".format(np_time.best*1.0/tf_time.best))\n"
   ]
  },
  {
   "cell_type": "markdown",
   "metadata": {},
   "source": [
    "## Numpy is very slow (for large matrices)\n",
    "\n",
    "Not just matrix multiplication, but also other operations like convolution which are ubiquotous in neural networks. This is where TensorFlow fits in. Tensorflow has highly GPU-optimized CUDA kernels for these operations which allows TensorFlow to exploit the parallel computation power of GPUs. Where a very good CPU might be able to run 128 threads (vectorized and hyper-threaded) simultaneously, NVIDIA GTX 1080 has 2560 cores.\n",
    "\n",
    "matrix multiplication parallel image\n",
    "\n",
    "## Why use TensorFlow?\n",
    "\n",
    "> TensorFlow is an end-to-end open source platform for machine learning. It has a comprehensive, flexible ecosystem of tools, libraries and community resources that lets researchers push the state-of-the-art in ML and developers easily build and deploy ML powered applications.\n",
    "\n",
    "* Efficiently leverages the explicit parallel nature of GPUs to perform parallelizable computations quickly\n",
    "* Has almost all the high-level functions you will need to implement simple or complex neural network\n",
    "* Provides automatic differentiation so you don't have to write the backward pass of neural networks\n"
   ]
  },
  {
   "cell_type": "markdown",
   "metadata": {},
   "source": [
    "## Diving head-first into TensorFlow\n",
    "\n",
    "Here we will be diving into TensorFlow specifics\n",
    "\n",
    "## 1.1. Placeholders, variables, tensors and operations\n",
    "\n",
    "Here you will be learning about placeholders, variables, tensors and operations.\n",
    "* Placeholder: A type of tensor where data is fed at run time\n",
    "* Variable: A type of tensor which is mutable, of which value can be changed later\n",
    "* Tensor: An immutable tensor that cannot be changed ones initialized\n",
    "* Operation: Performs transformations on various tensors to produce new outputs"
   ]
  },
  {
   "cell_type": "code",
   "execution_count": 3,
   "metadata": {},
   "outputs": [
    {
     "name": "stdout",
     "output_type": "stream",
     "text": [
      "'a' is a Placeholder\n",
      "'b' is a VariableV2\n",
      "'c' is a Const\n",
      "'d' is a <function add at 0x0000022E95AC8620>\n"
     ]
    }
   ],
   "source": [
    "tf.reset_default_graph()\n",
    "a = tf.placeholder(name='a', shape=[5,10], dtype=tf.float32)\n",
    "print(\"\\'{}\\' is a {}\".format('a',a.op.type))\n",
    "b = tf.get_variable(name='b', shape=[5,10], initializer=tf.initializers.random_normal(), dtype=tf.float32)\n",
    "print(\"\\'{}\\' is a {}\".format('b',b.op.type))\n",
    "c = tf.convert_to_tensor(np.ones(shape=(5,10),dtype=np.float32))\n",
    "print(\"\\'{}\\' is a {}\".format('c',c.op.type))\n",
    "d = tf.add\n",
    "print(\"\\'{}\\' is a {}\".format('d',d))"
   ]
  },
  {
   "cell_type": "markdown",
   "metadata": {},
   "source": [
    "### 1.1.1. Using placeholders"
   ]
  },
  {
   "cell_type": "code",
   "execution_count": 5,
   "metadata": {},
   "outputs": [
    {
     "name": "stdout",
     "output_type": "stream",
     "text": [
      "a ([1]) + 4 = [5.]\n",
      "a ([2]) + 4 = [6.]\n",
      "a ([3]) + 4 = [7.]\n"
     ]
    }
   ],
   "source": [
    "tf.reset_default_graph()\n",
    "tf_a = tf.placeholder(name='a', shape=[1], dtype=tf.float32)\n",
    "tf_add_ab = tf.add(tf_a, 4, name='add')\n",
    "\n",
    "with tf.Session() as sess:    \n",
    "    for a in [[1],[2],[3]]:\n",
    "        a_plus_b = sess.run(tf_add_ab, feed_dict={tf_a:a})\n",
    "        print(\"a ({}) + 4 = {}\".format(a, a_plus_b))"
   ]
  },
  {
   "cell_type": "markdown",
   "metadata": {},
   "source": [
    "### 1.1.2. Using variables"
   ]
  },
  {
   "cell_type": "code",
   "execution_count": 6,
   "metadata": {},
   "outputs": [
    {
     "name": "stdout",
     "output_type": "stream",
     "text": [
      "a = ([2.]) (before updating)\n",
      "a = ([3.]) (after updating)\n"
     ]
    }
   ],
   "source": [
    "tf.reset_default_graph()\n",
    "tf_a = tf.get_variable('a', shape=[1], dtype=tf.float32, initializer=tf.constant_initializer(2))\n",
    "tf_update_a = tf.assign(tf_a, [3])\n",
    "init = tf.global_variables_initializer()\n",
    "with tf.Session() as sess:    \n",
    "    sess.run(init)\n",
    "    a = sess.run(tf_a)\n",
    "    a_updated = sess.run(tf_update_a)\n",
    "    print(\"a = ({}) (before updating)\".format(a))\n",
    "    print(\"a = ({}) (after updating)\".format(a_updated))"
   ]
  },
  {
   "cell_type": "markdown",
   "metadata": {},
   "source": [
    "### 1.1.3. Using operations"
   ]
  },
  {
   "cell_type": "code",
   "execution_count": 4,
   "metadata": {},
   "outputs": [
    {
     "name": "stdout",
     "output_type": "stream",
     "text": [
      "a = 8\n"
     ]
    }
   ],
   "source": [
    "tf.reset_default_graph()\n",
    "with tf.Session() as sess:    \n",
    "    tf_a_plus_b = tf.add(3,5)\n",
    "    a = sess.run(tf_a_plus_b)\n",
    "    print(\"a = {}\".format(a))"
   ]
  },
  {
   "cell_type": "markdown",
   "metadata": {},
   "source": [
    "## How do we run a Python program\n",
    "\n",
    "When you write a normal python program it is *defined-by-run*, meaning the lines will be executed immediately as they are called by the interpreter. And if you have any loops changing a single variable within the loop, the variable will be overidden by the value produced in the current iteration."
   ]
  },
  {
   "cell_type": "code",
   "execution_count": 17,
   "metadata": {},
   "outputs": [
    {
     "name": "stdout",
     "output_type": "stream",
     "text": [
      "You have to save 1000 weeks in order to by a House\n",
      "You have to save 50 weeks in order to by a Car\n",
      "You have to save 5 weeks in order to by a Desktop-DL\n"
     ]
    }
   ],
   "source": [
    "saving_per_week = 1000\n",
    "dreams = [(\"House\", 1000000), (\"Car\", 50000), (\"Desktop-DL\", 5000)]\n",
    "\n",
    "for item, price in dreams:\n",
    "    num_weeks = int(price/saving_per_week)\n",
    "    print(\"You have to save {} weeks in order to by a {}\".format(num_weeks, item))"
   ]
  },
  {
   "cell_type": "code",
   "execution_count": 19,
   "metadata": {},
   "outputs": [
    {
     "name": "stdout",
     "output_type": "stream",
     "text": [
      "['a', 'b', 'dreams', 'exit', 'gc', 'get_ipython', 'item', 'mat_size', 'np', 'np_time', 'num_weeks', 'numpy_dot', 'price', 'quit', 'saving_per_week', 'sess']\n"
     ]
    }
   ],
   "source": [
    "print([v for v in dir() if (not v.startswith('_')) and (not v.startswith('tf')) and v!='In' and v!='Out'])"
   ]
  },
  {
   "cell_type": "markdown",
   "metadata": {},
   "source": [
    "## Let's try this with TensorFlow"
   ]
  },
  {
   "cell_type": "code",
   "execution_count": 32,
   "metadata": {},
   "outputs": [
    {
     "name": "stdout",
     "output_type": "stream",
     "text": [
      "You have to save 1000 weeks in order to by a House\n",
      "You have to save 50 weeks in order to by a Car\n",
      "You have to save 5 weeks in order to by a Desktop-DL\n"
     ]
    }
   ],
   "source": [
    "tf.reset_default_graph()\n",
    "\n",
    "saving_per_week = 1000\n",
    "dreams = [(\"House\", 1000000), (\"Car\", 50000), (\"Desktop-DL\", 5000)]\n",
    "\n",
    "with tf.Session() as sess:\n",
    "    for item, price in dreams:\n",
    "        tf_price = tf.get_variable(item, initializer=price)\n",
    "        tf_num_weeks = tf.math.divide(tf_price,saving_per_week, name='num_weeks')\n",
    "\n",
    "        sess.run(tf.global_variables_initializer())\n",
    "        print(\"You have to save {:d} weeks in order to by a {}\".format(\n",
    "            int(sess.run(tf_num_weeks)), item)\n",
    "             )"
   ]
  },
  {
   "cell_type": "code",
   "execution_count": 33,
   "metadata": {},
   "outputs": [
    {
     "name": "stdout",
     "output_type": "stream",
     "text": [
      "Variables in the graph\n",
      "['House:0', 'Car:0', 'Desktop-DL:0']\n",
      "\n",
      "Operations in the graph\n",
      "['House/initial_value', 'House', 'House/Assign', 'House/read', 'num_weeks/y', 'num_weeks/Cast', 'num_weeks/Cast_1', 'num_weeks', 'init', 'Car/initial_value', 'Car', 'Car/Assign', 'Car/read', 'num_weeks_1/y', 'num_weeks_1/Cast', 'num_weeks_1/Cast_1', 'num_weeks_1', 'init_1', 'Desktop-DL/initial_value', 'Desktop-DL', 'Desktop-DL/Assign', 'Desktop-DL/read', 'num_weeks_2/y', 'num_weeks_2/Cast', 'num_weeks_2/Cast_1', 'num_weeks_2', 'init_2']\n"
     ]
    }
   ],
   "source": [
    "print(\"Variables in the graph\")\n",
    "print([v.name for v in tf.global_variables()])\n",
    "print(\"\\nOperations in the graph\")\n",
    "print([op.name for op in tf.get_default_graph().get_operations()])"
   ]
  },
  {
   "cell_type": "markdown",
   "metadata": {},
   "source": [
    "## Oh oooh ... a TensorFlow program is different...\n",
    "\n",
    "A TensorFlow programs use graph based execution. That is, they first build a graph and then do computations over and over again on the graph with different inputs. A TensorFlow graph is like a [Galton board](https://en.wikipedia.org/wiki/Bean_machine). Your input can change (the small balls) but the screws/pegs stay fixed. And depending on how you drop the ball, the output (i.e. the bin it falls to) will be differnt.\n",
    "\n",
    "![Galton board](../images/galton_board.png)\n",
    "\n",
    "## 1.2. Writing a TensorFlow program"
   ]
  },
  {
   "cell_type": "code",
   "execution_count": 36,
   "metadata": {},
   "outputs": [
    {
     "name": "stdout",
     "output_type": "stream",
     "text": [
      "You have to save 1000 weeks in order to by a House\n",
      "You have to save 50 weeks in order to by a Car\n",
      "You have to save 5 weeks in order to by a Desktop-DL\n"
     ]
    }
   ],
   "source": [
    "tf.reset_default_graph()\n",
    "\n",
    "saving_per_week = 1000\n",
    "dreams = [(\"House\", 1000000), (\"Car\", 50000), (\"Desktop-DL\", 5000)]\n",
    "\n",
    "with tf.Session() as sess:\n",
    "    \"\"\" Defining Graph \"\"\"\n",
    "    tf_price = tf.placeholder(shape=None, dtype=tf.int32, name='tf_price')\n",
    "    tf_num_weeks = tf.math.divide(tf_price,saving_per_week, name='num_weeks')\n",
    "    \n",
    "    \"\"\" Executing the Graph \"\"\"\n",
    "    sess.run(tf.global_variables_initializer())\n",
    "    \n",
    "    for item, price in dreams:    \n",
    "        \n",
    "        print(\"You have to save {:d} weeks in order to by a {}\".format(\n",
    "            int(sess.run(tf_num_weeks, feed_dict={tf_price: price})), item)\n",
    "             )"
   ]
  },
  {
   "cell_type": "markdown",
   "metadata": {},
   "source": [
    "## 1.3. Scoping variables\n",
    "\n",
    "Scoping is context managing for variables. With scopes you are essentially putting variables in different scopes, and retrieve them from the correct scope when you need them."
   ]
  },
  {
   "cell_type": "markdown",
   "metadata": {},
   "source": [
    "### Who let those variables out?"
   ]
  },
  {
   "cell_type": "code",
   "execution_count": 54,
   "metadata": {},
   "outputs": [
    {
     "name": "stdout",
     "output_type": "stream",
     "text": [
      "My house price is 580000\n",
      "\n",
      "Variables in the graph\n",
      "['n_beds:0', 'area:0', 'has_park:0']\n"
     ]
    }
   ],
   "source": [
    "tf.reset_default_graph()\n",
    "def compute_house_price():\n",
    "    \"\"\" Computing house price using number of beds, area and has a park\"\"\"\n",
    "    tf_n_beds = tf.Variable(3, name='n_beds')\n",
    "    tf_area = tf.Variable(100, name='area')\n",
    "    tf_has_park = tf.Variable(1, name='has_park')\n",
    "    return 10000*tf_n_beds + 5000*tf_area + 50000 * tf_has_park\n",
    "\n",
    "with tf.Session() as sess:\n",
    "    \n",
    "    tf_house_price = compute_house_price()\n",
    "    tf.global_variables_initializer().run()\n",
    "    print('My house price is {}'.format(sess.run(tf_house_price)))\n",
    "    print(\"\\nVariables in the graph\")\n",
    "    print([v.name for v in tf.global_variables()])"
   ]
  },
  {
   "cell_type": "code",
   "execution_count": 55,
   "metadata": {},
   "outputs": [
    {
     "name": "stdout",
     "output_type": "stream",
     "text": [
      "My house price is 580000\n",
      "My house price is 580000\n",
      "My house price is 580000\n",
      "My house price is 580000\n",
      "My house price is 580000\n",
      "My house price is 580000\n",
      "My house price is 580000\n",
      "My house price is 580000\n",
      "My house price is 580000\n",
      "My house price is 580000\n",
      "\n",
      "Variables in the graph\n",
      "['n_beds:0', 'area:0', 'has_park:0', 'n_beds_1:0', 'area_1:0', 'has_park_1:0', 'n_beds_2:0', 'area_2:0', 'has_park_2:0', 'n_beds_3:0', 'area_3:0', 'has_park_3:0', 'n_beds_4:0', 'area_4:0', 'has_park_4:0', 'n_beds_5:0', 'area_5:0', 'has_park_5:0', 'n_beds_6:0', 'area_6:0', 'has_park_6:0', 'n_beds_7:0', 'area_7:0', 'has_park_7:0', 'n_beds_8:0', 'area_8:0', 'has_park_8:0', 'n_beds_9:0', 'area_9:0', 'has_park_9:0']\n"
     ]
    }
   ],
   "source": [
    "tf.reset_default_graph()\n",
    "\n",
    "with tf.Session() as sess:\n",
    "    \n",
    "    for _ in range(10):\n",
    "\n",
    "        tf_house_price = compute_house_price()\n",
    "        tf.global_variables_initializer().run()\n",
    "        print('My house price is {}'.format(sess.run(tf_house_price)))\n",
    "        \n",
    "    print(\"\\nVariables in the graph\")\n",
    "    print([v.name for v in tf.global_variables()])"
   ]
  },
  {
   "cell_type": "markdown",
   "metadata": {},
   "source": [
    "### With Scoping\n",
    "Scoping provides you protection against creating redundant variables"
   ]
  },
  {
   "cell_type": "code",
   "execution_count": 61,
   "metadata": {},
   "outputs": [
    {
     "name": "stdout",
     "output_type": "stream",
     "text": [
      "My house price is 580000.0\n",
      "My house price is 580000.0\n",
      "My house price is 580000.0\n",
      "My house price is 580000.0\n",
      "My house price is 580000.0\n",
      "My house price is 580000.0\n",
      "My house price is 580000.0\n",
      "My house price is 580000.0\n",
      "My house price is 580000.0\n",
      "My house price is 580000.0\n",
      "\n",
      "Variables in the graph\n",
      "['house/n_beds:0', 'house/area:0', 'house/has_park:0']\n"
     ]
    }
   ],
   "source": [
    "tf.reset_default_graph()\n",
    "\n",
    "def compute_house_price():\n",
    "    \"\"\" Computing house price using number of beds, area and has a park\"\"\"\n",
    "    \n",
    "    tf_n_beds = tf.get_variable(initializer=3.0, dtype=tf.float32, name='n_beds')\n",
    "    tf_area = tf.get_variable(initializer=100.0, dtype=tf.float32, name='area')\n",
    "    tf_has_park = tf.get_variable(initializer=1.0, dtype=tf.float32, name='has_park')\n",
    "    return 10000*tf_n_beds + 5000*tf_area + 50000 * tf_has_park\n",
    "\n",
    "with tf.Session() as sess:\n",
    "    \n",
    "    for _ in range(10):\n",
    "        with tf.variable_scope('house', reuse=tf.AUTO_REUSE):\n",
    "            tf_house_price = compute_house_price()\n",
    "        tf.global_variables_initializer().run()\n",
    "        print('My house price is {}'.format(sess.run(tf_house_price)))\n",
    "    print(\"\\nVariables in the graph\")\n",
    "    print([v.name for v in tf.global_variables()])"
   ]
  },
  {
   "cell_type": "code",
   "execution_count": 2,
   "metadata": {},
   "outputs": [
    {
     "name": "stdout",
     "output_type": "stream",
     "text": [
      "Variable 'layer_1/w:0' exists.\n",
      "Variable 'layer_1/b:0' exists.\n",
      "Variable 'layer_2/w:0' exists.\n",
      "Variable 'layer_2/b:0' exists.\n"
     ]
    }
   ],
   "source": [
    "tf.reset_default_graph()\n",
    "\n",
    "with tf.variable_scope('layer_1'):\n",
    "    tf.get_variable('w', shape=[5,10], initializer=tf.initializers.random_normal(), dtype=tf.float32)\n",
    "    tf.get_variable('b', shape=[5,10], initializer=tf.initializers.random_normal(), dtype=tf.float32)\n",
    "    \n",
    "with tf.variable_scope('layer_2'):\n",
    "    tf.get_variable('w', shape=[5,10], initializer=tf.initializers.random_normal(), dtype=tf.float32)\n",
    "    tf.get_variable('b', shape=[5,10], initializer=tf.initializers.random_normal(), dtype=tf.float32)\n",
    "\n",
    "for v in tf.global_variables(): \n",
    "    print('Variable \\'{}\\' exists.'.format(v.name))"
   ]
  },
  {
   "cell_type": "markdown",
   "metadata": {},
   "source": [
    "## 1.4 What happens if we don't use `sess.run`"
   ]
  },
  {
   "cell_type": "code",
   "execution_count": 6,
   "metadata": {},
   "outputs": [
    {
     "name": "stdout",
     "output_type": "stream",
     "text": [
      "Tensor(\"add:0\", shape=(1,), dtype=float32)\n"
     ]
    }
   ],
   "source": [
    "tf.reset_default_graph()\n",
    "tf_a = tf.get_variable('a', shape=[1], dtype=tf.float32, initializer=tf.constant_initializer(2))\n",
    "print(tf.add(tf_a, 2, name='add'))"
   ]
  },
  {
   "cell_type": "markdown",
   "metadata": {},
   "source": [
    "## 1.5. Eager execution\n",
    "Eager execution let's you to run things without building a computational graph"
   ]
  },
  {
   "cell_type": "code",
   "execution_count": null,
   "metadata": {},
   "outputs": [
    {
     "data": {
      "text/html": [
       "<script>Jupyter.notebook.kernel.restart()</script>"
      ],
      "text/plain": [
       "<IPython.core.display.HTML object>"
      ]
     },
     "execution_count": 7,
     "metadata": {},
     "output_type": "execute_result"
    }
   ],
   "source": [
    "# Restarting the Kernel \n",
    "# (Eager execution needs to be the very first thing called when a kernel stands up)\n",
    "from IPython.core.display import HTML\n",
    "HTML(\"<script>Jupyter.notebook.kernel.restart()</script>\")"
   ]
  },
  {
   "cell_type": "code",
   "execution_count": 1,
   "metadata": {},
   "outputs": [],
   "source": [
    "import tensorflow as tf\n",
    "try:\n",
    "    tf.enable_eager_execution()\n",
    "except:\n",
    "    print(\"Is eager execution already running? {}\".format(tf.executing_eagerly()))\n",
    "    \n",
    "import numpy as np"
   ]
  },
  {
   "cell_type": "code",
   "execution_count": 2,
   "metadata": {},
   "outputs": [
    {
     "name": "stdout",
     "output_type": "stream",
     "text": [
      "tf.Tensor([4.], shape=(1,), dtype=float32)\n"
     ]
    }
   ],
   "source": [
    "tf.reset_default_graph()\n",
    "tf_a = tf.get_variable('a', shape=[1], dtype=tf.float32, initializer=tf.constant_initializer(2))\n",
    "print(tf.add(tf_a, 2))"
   ]
  },
  {
   "cell_type": "code",
   "execution_count": null,
   "metadata": {},
   "outputs": [],
   "source": []
  },
  {
   "cell_type": "code",
   "execution_count": null,
   "metadata": {},
   "outputs": [],
   "source": []
  },
  {
   "cell_type": "code",
   "execution_count": null,
   "metadata": {},
   "outputs": [],
   "source": []
  }
 ],
 "metadata": {
  "kernelspec": {
   "display_name": "Python 3",
   "language": "python",
   "name": "python3"
  },
  "language_info": {
   "codemirror_mode": {
    "name": "ipython",
    "version": 3
   },
   "file_extension": ".py",
   "mimetype": "text/x-python",
   "name": "python",
   "nbconvert_exporter": "python",
   "pygments_lexer": "ipython3",
   "version": "3.5.6"
  }
 },
 "nbformat": 4,
 "nbformat_minor": 2
}
